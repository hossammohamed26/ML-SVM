{
  "nbformat": 4,
  "nbformat_minor": 0,
  "metadata": {
    "colab": {
      "name": "SVM.ipynb",
      "provenance": [],
      "collapsed_sections": []
    },
    "kernelspec": {
      "name": "python3",
      "display_name": "Python 3"
    },
    "language_info": {
      "name": "python"
    }
  },
  "cells": [
    {
      "cell_type": "code",
      "execution_count": 161,
      "metadata": {
        "id": "d4KDUi1NYh3E"
      },
      "outputs": [],
      "source": [
        "import numpy as np\n",
        "import matplotlib.pyplot as plt\n",
        "import pandas as pd"
      ]
    },
    {
      "cell_type": "code",
      "source": [
        "#ٍNormalization\n",
        "def normalization(x_data):\n",
        "    x_max=x_data.max()\n",
        "    x_data=(x_data)/(x_max)\n",
        "    return x_data"
      ],
      "metadata": {
        "id": "jKV9BkOJkRi6"
      },
      "execution_count": 162,
      "outputs": []
    },
    {
      "cell_type": "code",
      "source": [
        "#split data 80/20\n",
        "def split(x_data, y_data):\n",
        "    trainSize=int(y_data.size*.8)\n",
        "    xTrain=x_data[:trainSize]\n",
        "    xTest=x_data[trainSize:]\n",
        "    yTrain=y_data[:trainSize]\n",
        "    yTest=y_data[trainSize:]\n",
        "    return xTrain, xTest, yTrain, yTest"
      ],
      "metadata": {
        "id": "vGZ8R0b_kjle"
      },
      "execution_count": 163,
      "outputs": []
    },
    {
      "cell_type": "code",
      "source": [
        "#Cal Accuracy\n",
        "def calAccuracy(xPred, yTest):\n",
        "    r=0\n",
        "    for i in range(len(xPred)):\n",
        "      if xPred[i]==yTest[i]:\n",
        "          r=r+1\n",
        "    return (r/len(xPred))*100\n"
      ],
      "metadata": {
        "id": "BuSygDeOlR8k"
      },
      "execution_count": 164,
      "outputs": []
    },
    {
      "cell_type": "code",
      "source": [
        "def predict(x, w, b):\n",
        "        approx = x.dot(w.T) + b\n",
        "        return np.sign(approx)"
      ],
      "metadata": {
        "id": "K7JLcKY5jIyJ"
      },
      "execution_count": 165,
      "outputs": []
    },
    {
      "cell_type": "code",
      "source": [
        "def fit(x, y, w, b, lambda_param, alpha, n_iters):\n",
        "        for i in range(n_iters):\n",
        "            for j in range(len(y)):\n",
        "                condition = ( y[j] * ((x[j].dot(w.T)) + b ) )  \n",
        "                if condition >= 1:\n",
        "                    w = w - ( alpha * (2 * lambda_param * w) )\n",
        "                else:\n",
        "                    w = w + ( alpha * ( (x[j] * y[j]) - (2 * lambda_param * w) ) )\n",
        "                    b = b + ( alpha * y[j] )\n",
        "        return w, b"
      ],
      "metadata": {
        "id": "aUgZO2n36k6Q"
      },
      "execution_count": 166,
      "outputs": []
    },
    {
      "cell_type": "code",
      "source": [
        "dataset = pd.read_csv('heart.csv')\n",
        "print(dataset.head())"
      ],
      "metadata": {
        "colab": {
          "base_uri": "https://localhost:8080/"
        },
        "id": "vmuoSS624J5c",
        "outputId": "a47d27dc-6ca8-4654-fc97-abaeb88a0452"
      },
      "execution_count": 167,
      "outputs": [
        {
          "output_type": "stream",
          "name": "stdout",
          "text": [
            "   age  sex  cp  trestbps  chol  fbs  ...  exang  oldpeak  slope  ca  thal  target\n",
            "0   63    1   3       145   233    1  ...      0      2.3      0   0     1       1\n",
            "1   37    1   2       130   250    0  ...      0      3.5      0   0     2       1\n",
            "2   41    0   1       130   204    0  ...      0      1.4      2   0     2       1\n",
            "3   56    1   1       120   236    0  ...      0      0.8      2   0     2       1\n",
            "4   57    0   0       120   354    0  ...      1      0.6      2   0     2       1\n",
            "\n",
            "[5 rows x 14 columns]\n"
          ]
        }
      ]
    },
    {
      "cell_type": "code",
      "source": [
        "x_data=dataset.iloc[:,:4]\n",
        "y_data=dataset['target']\n",
        "print(x_data)\n",
        "print(y_data)"
      ],
      "metadata": {
        "colab": {
          "base_uri": "https://localhost:8080/"
        },
        "id": "GAr_glk14QNs",
        "outputId": "47e9d43d-7f55-4129-8546-e9526e6036fa"
      },
      "execution_count": 168,
      "outputs": [
        {
          "output_type": "stream",
          "name": "stdout",
          "text": [
            "     age  sex  cp  trestbps\n",
            "0     63    1   3       145\n",
            "1     37    1   2       130\n",
            "2     41    0   1       130\n",
            "3     56    1   1       120\n",
            "4     57    0   0       120\n",
            "..   ...  ...  ..       ...\n",
            "298   57    0   0       140\n",
            "299   45    1   3       110\n",
            "300   68    1   0       144\n",
            "301   57    1   0       130\n",
            "302   57    0   1       130\n",
            "\n",
            "[303 rows x 4 columns]\n",
            "0      1\n",
            "1      1\n",
            "2      1\n",
            "3      1\n",
            "4      1\n",
            "      ..\n",
            "298    0\n",
            "299    0\n",
            "300    0\n",
            "301    0\n",
            "302    0\n",
            "Name: target, Length: 303, dtype: int64\n"
          ]
        }
      ]
    },
    {
      "cell_type": "code",
      "source": [
        "#convert to matrix\n",
        "x_data=np.array(x_data)\n",
        "y_data=np.array(y_data).flatten()\n",
        "print(x_data.shape)\n",
        "print(y_data.shape)"
      ],
      "metadata": {
        "colab": {
          "base_uri": "https://localhost:8080/"
        },
        "id": "cnjMqsfX6vIe",
        "outputId": "b6f1714b-92e4-491e-ef4f-0a4bf1852df8"
      },
      "execution_count": 169,
      "outputs": [
        {
          "output_type": "stream",
          "name": "stdout",
          "text": [
            "(303, 4)\n",
            "(303,)\n"
          ]
        }
      ]
    },
    {
      "cell_type": "code",
      "source": [
        "x_data=normalization(x_data)\n",
        "print(x_data)"
      ],
      "metadata": {
        "colab": {
          "base_uri": "https://localhost:8080/"
        },
        "id": "g4K2yVKA5drU",
        "outputId": "b4b5cba8-7956-4fbd-ba27-2a0fad7ac38c"
      },
      "execution_count": 170,
      "outputs": [
        {
          "output_type": "stream",
          "name": "stdout",
          "text": [
            "[[0.315 0.005 0.015 0.725]\n",
            " [0.185 0.005 0.01  0.65 ]\n",
            " [0.205 0.    0.005 0.65 ]\n",
            " ...\n",
            " [0.34  0.005 0.    0.72 ]\n",
            " [0.285 0.005 0.    0.65 ]\n",
            " [0.285 0.    0.005 0.65 ]]\n"
          ]
        }
      ]
    },
    {
      "cell_type": "code",
      "source": [
        "xTrain, xTest, yTrain, yTest = split(x_data, y_data)\n",
        "#print(xTrain)\n",
        "#print(xTest)\n",
        "#print(yTrain)\n",
        "#print(yTest)"
      ],
      "metadata": {
        "id": "7WhxpmS_6IXU"
      },
      "execution_count": 171,
      "outputs": []
    },
    {
      "cell_type": "code",
      "source": [
        "y = np.where(yTrain <= 0, -1, 1)\n",
        "n_iters=1000\n",
        "lambda_param=0.001\n",
        "alpha=[0.0001, 0.001, 0.009, 0.01, 0.1, 0.4]\n",
        "n_features = np.size(xTrain, 1)\n",
        "file = open(\"SVM-Output.txt\", \"w\")\n",
        "for i in range(len(alpha)):\n",
        "    w = np.zeros(n_features)\n",
        "    b = 0\n",
        "    w, b = fit(xTrain, y, w, b, lambda_param, alpha[i], n_iters)\n",
        "    xPred = predict(xTest, w, b)\n",
        "    xPred = np.where(xPred <= -1, 0, 1)\n",
        "    acc = calAccuracy(xPred, yTest)\n",
        "    print('Accuracy when alpha =', alpha[i], '=', acc, '%')\n",
        "    file.write('Accuracy when alpha = ' + str(alpha[i]) + ' = '+ str(acc)+ '%\\n')\n",
        "file.close()       "
      ],
      "metadata": {
        "colab": {
          "base_uri": "https://localhost:8080/"
        },
        "id": "ZpKSvbMX9uwJ",
        "outputId": "29d8fe1c-b3a0-45ca-d34e-c28c004fe3e1"
      },
      "execution_count": 175,
      "outputs": [
        {
          "output_type": "stream",
          "name": "stdout",
          "text": [
            "Accuracy when alpha = 0.0001 = 0.0 %\n",
            "Accuracy when alpha = 0.001 = 0.0 %\n",
            "Accuracy when alpha = 0.009 = 31.147540983606557 %\n",
            "Accuracy when alpha = 0.01 = 65.57377049180327 %\n",
            "Accuracy when alpha = 0.1 = 100.0 %\n",
            "Accuracy when alpha = 0.4 = 100.0 %\n"
          ]
        }
      ]
    }
  ]
}